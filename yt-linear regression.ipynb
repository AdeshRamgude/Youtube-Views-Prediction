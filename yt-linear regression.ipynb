{
 "cells": [
  {
   "cell_type": "code",
   "execution_count": 27,
   "metadata": {},
   "outputs": [],
   "source": [
    "import numpy as np\n",
    "import pandas as pd\n",
    "from sklearn.model_selection import train_test_split\n",
    "from sklearn.linear_model import LinearRegression\n",
    "from sklearn.impute import SimpleImputer\n",
    "from sklearn.metrics import mean_absolute_error, mean_squared_error, r2_score"
   ]
  },
  {
   "cell_type": "code",
   "execution_count": 28,
   "metadata": {},
   "outputs": [
    {
     "data": {
      "text/html": [
       "<div>\n",
       "<style scoped>\n",
       "    .dataframe tbody tr th:only-of-type {\n",
       "        vertical-align: middle;\n",
       "    }\n",
       "\n",
       "    .dataframe tbody tr th {\n",
       "        vertical-align: top;\n",
       "    }\n",
       "\n",
       "    .dataframe thead th {\n",
       "        text-align: right;\n",
       "    }\n",
       "</style>\n",
       "<table border=\"1\" class=\"dataframe\">\n",
       "  <thead>\n",
       "    <tr style=\"text-align: right;\">\n",
       "      <th></th>\n",
       "      <th>likes</th>\n",
       "      <th>dislikes</th>\n",
       "      <th>comment_count</th>\n",
       "      <th>views</th>\n",
       "    </tr>\n",
       "  </thead>\n",
       "  <tbody>\n",
       "    <tr>\n",
       "      <td>0</td>\n",
       "      <td>33966</td>\n",
       "      <td>798</td>\n",
       "      <td>882</td>\n",
       "      <td>1096327</td>\n",
       "    </tr>\n",
       "    <tr>\n",
       "      <td>1</td>\n",
       "      <td>829362</td>\n",
       "      <td>61195</td>\n",
       "      <td>101117</td>\n",
       "      <td>35885754</td>\n",
       "    </tr>\n",
       "    <tr>\n",
       "      <td>2</td>\n",
       "      <td>7861</td>\n",
       "      <td>68</td>\n",
       "      <td>364</td>\n",
       "      <td>249423</td>\n",
       "    </tr>\n",
       "    <tr>\n",
       "      <td>3</td>\n",
       "      <td>12397</td>\n",
       "      <td>449</td>\n",
       "      <td>385</td>\n",
       "      <td>696515</td>\n",
       "    </tr>\n",
       "    <tr>\n",
       "      <td>4</td>\n",
       "      <td>3931</td>\n",
       "      <td>390</td>\n",
       "      <td>640</td>\n",
       "      <td>269593</td>\n",
       "    </tr>\n",
       "  </tbody>\n",
       "</table>\n",
       "</div>"
      ],
      "text/plain": [
       "    likes  dislikes  comment_count     views\n",
       "0   33966       798            882   1096327\n",
       "1  829362     61195         101117  35885754\n",
       "2    7861        68            364    249423\n",
       "3   12397       449            385    696515\n",
       "4    3931       390            640    269593"
      ]
     },
     "execution_count": 28,
     "metadata": {},
     "output_type": "execute_result"
    }
   ],
   "source": [
    "data = pd.read_csv('yt.csv')\n",
    "data.head()"
   ]
  },
  {
   "cell_type": "code",
   "execution_count": 29,
   "metadata": {
    "scrolled": true
   },
   "outputs": [
    {
     "data": {
      "text/html": [
       "<div>\n",
       "<style scoped>\n",
       "    .dataframe tbody tr th:only-of-type {\n",
       "        vertical-align: middle;\n",
       "    }\n",
       "\n",
       "    .dataframe tbody tr th {\n",
       "        vertical-align: top;\n",
       "    }\n",
       "\n",
       "    .dataframe thead th {\n",
       "        text-align: right;\n",
       "    }\n",
       "</style>\n",
       "<table border=\"1\" class=\"dataframe\">\n",
       "  <thead>\n",
       "    <tr style=\"text-align: right;\">\n",
       "      <th></th>\n",
       "      <th>likes</th>\n",
       "      <th>dislikes</th>\n",
       "      <th>comment_count</th>\n",
       "      <th>views</th>\n",
       "    </tr>\n",
       "  </thead>\n",
       "  <tbody>\n",
       "    <tr>\n",
       "      <td>count</td>\n",
       "      <td>3.735200e+04</td>\n",
       "      <td>3.735200e+04</td>\n",
       "      <td>37352.00000</td>\n",
       "      <td>3.735200e+04</td>\n",
       "    </tr>\n",
       "    <tr>\n",
       "      <td>mean</td>\n",
       "      <td>2.708272e+04</td>\n",
       "      <td>1.665082e+03</td>\n",
       "      <td>2676.99743</td>\n",
       "      <td>1.060478e+06</td>\n",
       "    </tr>\n",
       "    <tr>\n",
       "      <td>std</td>\n",
       "      <td>9.714510e+04</td>\n",
       "      <td>1.607617e+04</td>\n",
       "      <td>14868.31713</td>\n",
       "      <td>3.184932e+06</td>\n",
       "    </tr>\n",
       "    <tr>\n",
       "      <td>min</td>\n",
       "      <td>0.000000e+00</td>\n",
       "      <td>0.000000e+00</td>\n",
       "      <td>0.00000</td>\n",
       "      <td>4.024000e+03</td>\n",
       "    </tr>\n",
       "    <tr>\n",
       "      <td>25%</td>\n",
       "      <td>8.640000e+02</td>\n",
       "      <td>1.080000e+02</td>\n",
       "      <td>81.00000</td>\n",
       "      <td>1.239155e+05</td>\n",
       "    </tr>\n",
       "    <tr>\n",
       "      <td>50%</td>\n",
       "      <td>3.069000e+03</td>\n",
       "      <td>3.260000e+02</td>\n",
       "      <td>329.00000</td>\n",
       "      <td>3.045860e+05</td>\n",
       "    </tr>\n",
       "    <tr>\n",
       "      <td>75%</td>\n",
       "      <td>1.377425e+04</td>\n",
       "      <td>1.019250e+03</td>\n",
       "      <td>1285.00000</td>\n",
       "      <td>7.992912e+05</td>\n",
       "    </tr>\n",
       "    <tr>\n",
       "      <td>max</td>\n",
       "      <td>2.912710e+06</td>\n",
       "      <td>1.545017e+06</td>\n",
       "      <td>827755.00000</td>\n",
       "      <td>1.254322e+08</td>\n",
       "    </tr>\n",
       "  </tbody>\n",
       "</table>\n",
       "</div>"
      ],
      "text/plain": [
       "              likes      dislikes  comment_count         views\n",
       "count  3.735200e+04  3.735200e+04    37352.00000  3.735200e+04\n",
       "mean   2.708272e+04  1.665082e+03     2676.99743  1.060478e+06\n",
       "std    9.714510e+04  1.607617e+04    14868.31713  3.184932e+06\n",
       "min    0.000000e+00  0.000000e+00        0.00000  4.024000e+03\n",
       "25%    8.640000e+02  1.080000e+02       81.00000  1.239155e+05\n",
       "50%    3.069000e+03  3.260000e+02      329.00000  3.045860e+05\n",
       "75%    1.377425e+04  1.019250e+03     1285.00000  7.992912e+05\n",
       "max    2.912710e+06  1.545017e+06   827755.00000  1.254322e+08"
      ]
     },
     "execution_count": 29,
     "metadata": {},
     "output_type": "execute_result"
    }
   ],
   "source": [
    "data.describe()"
   ]
  },
  {
   "cell_type": "code",
   "execution_count": 30,
   "metadata": {},
   "outputs": [],
   "source": [
    "X = data[['likes', 'dislikes','comment_count']]\n",
    "y = data[['views']]"
   ]
  },
  {
   "cell_type": "code",
   "execution_count": 31,
   "metadata": {},
   "outputs": [],
   "source": [
    "my_imputer = SimpleImputer()\n",
    "X = my_imputer.fit_transform(X)\n",
    "y = my_imputer.fit_transform(y)"
   ]
  },
  {
   "cell_type": "code",
   "execution_count": 32,
   "metadata": {},
   "outputs": [],
   "source": [
    "X_train, X_test, y_train, y_test = train_test_split(X, y, test_size=0.2)"
   ]
  },
  {
   "cell_type": "code",
   "execution_count": 33,
   "metadata": {},
   "outputs": [
    {
     "data": {
      "text/plain": [
       "LinearRegression(copy_X=True, fit_intercept=True, n_jobs=None, normalize=False)"
      ]
     },
     "execution_count": 33,
     "metadata": {},
     "output_type": "execute_result"
    }
   ],
   "source": [
    "model = LinearRegression()\n",
    "model.fit(X_train, y_train)"
   ]
  },
  {
   "cell_type": "code",
   "execution_count": 34,
   "metadata": {},
   "outputs": [],
   "source": [
    "y_pred = model.predict(X_test)"
   ]
  },
  {
   "cell_type": "code",
   "execution_count": 35,
   "metadata": {},
   "outputs": [
    {
     "data": {
      "text/plain": [
       "0.722860699083564"
      ]
     },
     "execution_count": 35,
     "metadata": {},
     "output_type": "execute_result"
    }
   ],
   "source": [
    "model.score(X_test,y_test)"
   ]
  },
  {
   "cell_type": "code",
   "execution_count": 36,
   "metadata": {},
   "outputs": [
    {
     "data": {
      "text/html": [
       "<div>\n",
       "<style scoped>\n",
       "    .dataframe tbody tr th:only-of-type {\n",
       "        vertical-align: middle;\n",
       "    }\n",
       "\n",
       "    .dataframe tbody tr th {\n",
       "        vertical-align: top;\n",
       "    }\n",
       "\n",
       "    .dataframe thead th {\n",
       "        text-align: right;\n",
       "    }\n",
       "</style>\n",
       "<table border=\"1\" class=\"dataframe\">\n",
       "  <thead>\n",
       "    <tr style=\"text-align: right;\">\n",
       "      <th></th>\n",
       "      <th>Actual</th>\n",
       "      <th>Predicted</th>\n",
       "    </tr>\n",
       "  </thead>\n",
       "  <tbody>\n",
       "    <tr>\n",
       "      <td>0</td>\n",
       "      <td>44179.0</td>\n",
       "      <td>3.118596e+05</td>\n",
       "    </tr>\n",
       "    <tr>\n",
       "      <td>1</td>\n",
       "      <td>323141.0</td>\n",
       "      <td>3.775169e+05</td>\n",
       "    </tr>\n",
       "    <tr>\n",
       "      <td>2</td>\n",
       "      <td>197660.0</td>\n",
       "      <td>3.316584e+05</td>\n",
       "    </tr>\n",
       "    <tr>\n",
       "      <td>3</td>\n",
       "      <td>300062.0</td>\n",
       "      <td>3.933153e+05</td>\n",
       "    </tr>\n",
       "    <tr>\n",
       "      <td>4</td>\n",
       "      <td>399112.0</td>\n",
       "      <td>3.648386e+05</td>\n",
       "    </tr>\n",
       "    <tr>\n",
       "      <td>...</td>\n",
       "      <td>...</td>\n",
       "      <td>...</td>\n",
       "    </tr>\n",
       "    <tr>\n",
       "      <td>7466</td>\n",
       "      <td>251040.0</td>\n",
       "      <td>3.890593e+05</td>\n",
       "    </tr>\n",
       "    <tr>\n",
       "      <td>7467</td>\n",
       "      <td>132320.0</td>\n",
       "      <td>3.289444e+05</td>\n",
       "    </tr>\n",
       "    <tr>\n",
       "      <td>7468</td>\n",
       "      <td>256408.0</td>\n",
       "      <td>3.551813e+05</td>\n",
       "    </tr>\n",
       "    <tr>\n",
       "      <td>7469</td>\n",
       "      <td>230837.0</td>\n",
       "      <td>5.608809e+05</td>\n",
       "    </tr>\n",
       "    <tr>\n",
       "      <td>7470</td>\n",
       "      <td>2035734.0</td>\n",
       "      <td>1.623906e+06</td>\n",
       "    </tr>\n",
       "  </tbody>\n",
       "</table>\n",
       "<p>7471 rows × 2 columns</p>\n",
       "</div>"
      ],
      "text/plain": [
       "         Actual     Predicted\n",
       "0       44179.0  3.118596e+05\n",
       "1      323141.0  3.775169e+05\n",
       "2      197660.0  3.316584e+05\n",
       "3      300062.0  3.933153e+05\n",
       "4      399112.0  3.648386e+05\n",
       "...         ...           ...\n",
       "7466   251040.0  3.890593e+05\n",
       "7467   132320.0  3.289444e+05\n",
       "7468   256408.0  3.551813e+05\n",
       "7469   230837.0  5.608809e+05\n",
       "7470  2035734.0  1.623906e+06\n",
       "\n",
       "[7471 rows x 2 columns]"
      ]
     },
     "execution_count": 36,
     "metadata": {},
     "output_type": "execute_result"
    }
   ],
   "source": [
    "df = pd.DataFrame({'Actual': y_test.flatten(), 'Predicted': y_pred.flatten()})\n",
    "df"
   ]
  }
 ],
 "metadata": {
  "kernelspec": {
   "display_name": "Python 3",
   "language": "python",
   "name": "python3"
  },
  "language_info": {
   "codemirror_mode": {
    "name": "ipython",
    "version": 3
   },
   "file_extension": ".py",
   "mimetype": "text/x-python",
   "name": "python",
   "nbconvert_exporter": "python",
   "pygments_lexer": "ipython3",
   "version": "3.7.4"
  }
 },
 "nbformat": 4,
 "nbformat_minor": 2
}
